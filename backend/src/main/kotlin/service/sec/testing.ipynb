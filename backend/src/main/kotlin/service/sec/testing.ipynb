{
 "cells": [
  {
   "cell_type": "code",
   "metadata": {
    "collapsed": true,
    "ExecuteTime": {
     "end_time": "2024-06-19T09:18:14.051685Z",
     "start_time": "2024-06-19T09:18:11.882854Z"
    }
   },
   "source": [
    "//TODO: Make changes to all the tags with : and replace with |\n",
    "\n",
    "package service.sec\n",
    "\n",
    "import org.jsoup.nodes.Element\n",
    "import java.time.LocalDate\n",
    "import java.time.format.DateTimeFormatter\n",
    "import org.slf4j.LoggerFactory\n",
    "\n",
    "class ElementParser {\n",
    "    private val logger = LoggerFactory.getLogger(ElementParser::class.java)\n",
    "\n",
    "    fun parseElement(soup: Element, element: Element, checkIsSubEntity: Boolean = true): Map<String, Any?> {\n",
    "        val elementName = element.tagName().split(\"|\").last().lowercase()\n",
    "        try {\n",
    "            if (!element.hasAttr(\"contextref\")) {\n",
    "                logger.warn(\"Element $elementName has no contextref\")\n",
    "                return emptyMap()\n",
    "            }\n",
    "\n",
    "            val contextElement = soup.getElementById(element.attr(\"contextref\"))\n",
    "            if (checkIsSubEntity && contextElement?.getElementsByTag(\"xbrli|segment\")?.isNotEmpty() == true) {\n",
    "                logger.info(\"Element $elementName has a sub entity\")\n",
    "                return emptyMap()\n",
    "            }\n",
    "\n",
    "            val elementDict = mutableMapOf<String, Any?>()\n",
    "            elementDict[\"name\"] = element.tagName().split(\"|\").last().lowercase()\n",
    "            elementDict[\"value\"] = cleanValue(element.text())\n",
    "            elementDict[\"unit\"] = retrieveUnit(soup, element)\n",
    "            elementDict[\"date\"] = retrieveDate(soup, element)\n",
    "\n",
    "            if (elementDict[\"value\"] == \"\") {\n",
    "                elementDict[\"value\"] = retrieveFromContext(soup, element.attr(\"contextref\"))\n",
    "            }\n",
    "\n",
    "            if (elementDict[\"unit\"] != \"NA\" && elementDict[\"value\"] is String) {\n",
    "                elementDict[\"value\"] = cleanValue(elementDict[\"value\"] as String)\n",
    "            }\n",
    "\n",
    "            if (element.hasAttr(\"sign\") && element.attr(\"sign\") == \"-\") {\n",
    "                elementDict[\"value\"] = -(elementDict[\"value\"] as Double)\n",
    "            }\n",
    "\n",
    "            return elementDict\n",
    "        } catch (e: Exception) {\n",
    "            logger.error(\"Exception parsing $elementName: ${e.message}\")\n",
    "            return emptyMap()\n",
    "        }\n",
    "    }\n",
    "\n",
    "    fun cleanValue(string: String): Any {\n",
    "        if (string.trim() == \"-\") {\n",
    "            return 0.0\n",
    "        }\n",
    "\n",
    "        return try {\n",
    "            string.trim().replace(\",\", \"\").replace(\" \", \"\").toDouble()\n",
    "        } catch (e: Exception) {\n",
    "            string\n",
    "        }\n",
    "    }\n",
    "\n",
    "    fun retrieveUnit(soup: Element, element: Element): String {\n",
    "        return try {\n",
    "            soup.getElementById(element.attr(\"unitref\"))?.text()?.trim() ?: element.attr(\"unitref\")\n",
    "        } catch (e: Exception) {\n",
    "            \"NA\"\n",
    "        }\n",
    "    }\n",
    "\n",
    "    fun retrieveDate(soup: Element, element: Element): String {\n",
    "        val dateTagList = listOf(\"xbrli|enddate\", \"xbrli|instant\", \"xbrli|period\", \"enddate\", \"instant\")\n",
    "\n",
    "        val contextElement = soup.getElementById(element.attr(\"contextref\"))\n",
    "        logger.info(\"Context element: $contextElement\")\n",
    "\n",
    "        if (contextElement != null) {\n",
    "            val periodElement = contextElement?.selectFirst(\"xbrli|period\")//.firstOrNull()\n",
    "            logger.info(\"Period element: $periodElement\")\n",
    "\n",
    "            if (periodElement != null) {\n",
    "                dateTagList.forEach { tag ->\n",
    "                    val dateElement = periodElement.selectFirst(tag)//.firstOrNull()\n",
    "                    val dateVal = dateElement?.text()?.trim()\n",
    "                    logger.info(\"Found date value '$dateVal' for tag '$tag'\")\n",
    "\n",
    "                    if (!dateVal.isNullOrEmpty()) {\n",
    "                        return try {\n",
    "                            LocalDate.parse(dateVal, DateTimeFormatter.ISO_DATE).toString()\n",
    "                        } catch (e: Exception) {\n",
    "                            logger.error(\"Error parsing date value '$dateVal' for tag '$tag': ${e.message}\")\n",
    "                            \"NA\"\n",
    "                        }\n",
    "                    }\n",
    "                }\n",
    "            } else {\n",
    "                // Check if it's an instant date\n",
    "                val instantElement = contextElement.getElementsByTag(\"xbrli|instant\").firstOrNull()\n",
    "                val instantDateVal = instantElement?.text()?.trim()\n",
    "                logger.info(\"Found instant date value '$instantDateVal'\")\n",
    "\n",
    "                if (!instantDateVal.isNullOrEmpty()) {\n",
    "                    return try {\n",
    "                        LocalDate.parse(instantDateVal, DateTimeFormatter.ISO_DATE).toString()\n",
    "                    } catch (e: Exception) {\n",
    "                        logger.error(\"Error parsing instant date value '$instantDateVal': ${e.message}\")\n",
    "                        \"NA\"\n",
    "                    }\n",
    "                }\n",
    "            }\n",
    "        }\n",
    "\n",
    "        return try {\n",
    "            LocalDate.parse(element.attr(\"contextref\"), DateTimeFormatter.ISO_DATE).toString()\n",
    "        } catch (e: Exception) {\n",
    "            logger.error(\"Error parsing contextref as date: ${e.message}\")\n",
    "            \"NA\"\n",
    "        }\n",
    "    }\n",
    "\n",
    "    fun retrieveFromContext(soup: Element, contextRef: String): String {\n",
    "        return try {\n",
    "            val context = soup.getElementsByTag(\"xbrli|context\").first { it.id() == contextRef }\n",
    "            context.getElementsByTag(\"xbrldi|explicitmember\").text().split(\"|\").last().trim()\n",
    "        } catch (e: Exception) {\n",
    "            logger.debug(\"Failed to retrieve from context: ${e.message}\")\n",
    "            \"\"\n",
    "        }\n",
    "    }\n",
    "}\n"
   ],
   "outputs": [],
   "execution_count": 1
  },
  {
   "metadata": {
    "ExecuteTime": {
     "end_time": "2024-06-19T09:18:15.667494Z",
     "start_time": "2024-06-19T09:18:15.412406Z"
    }
   },
   "cell_type": "code",
   "source": "val eP = Line_1_jupyter.ElementParser()",
   "outputs": [],
   "execution_count": 2
  },
  {
   "metadata": {
    "ExecuteTime": {
     "end_time": "2024-06-19T09:18:17.032808Z",
     "start_time": "2024-06-19T09:18:16.931183Z"
    }
   },
   "cell_type": "code",
   "source": [
    "// Fetch and parse the SEC data\n",
    "val url = \"https://www.sec.gov/Archives/edgar/data/1001171/0001140361-22-017275.txt\"\n",
    "val headers = mapOf(\"User-Agent\" to \"SampleCompanyName AdminContact@samplecompany.com\")"
   ],
   "outputs": [],
   "execution_count": 3
  },
  {
   "metadata": {
    "ExecuteTime": {
     "end_time": "2024-06-19T09:18:17.773013Z",
     "start_time": "2024-06-19T09:18:17.691570Z"
    }
   },
   "cell_type": "code",
   "source": "val response = \"\"",
   "outputs": [],
   "execution_count": 4
  },
  {
   "metadata": {
    "ExecuteTime": {
     "end_time": "2024-06-19T09:18:58.591049Z",
     "start_time": "2024-06-19T09:18:58.508402Z"
    }
   },
   "cell_type": "code",
   "source": [
    "import org.jsoup.Jsoup\n",
    "import org.jsoup.nodes.Document\n",
    "import java.net.HttpURLConnection\n",
    "import java.net.URL"
   ],
   "outputs": [],
   "execution_count": 6
  },
  {
   "metadata": {
    "ExecuteTime": {
     "end_time": "2024-06-19T09:19:00.705712Z",
     "start_time": "2024-06-19T09:19:00.441833Z"
    }
   },
   "cell_type": "code",
   "source": "val connection = URL(url).openConnection() as HttpURLConnection ",
   "outputs": [],
   "execution_count": 7
  },
  {
   "metadata": {
    "ExecuteTime": {
     "end_time": "2024-06-19T09:19:02.065142Z",
     "start_time": "2024-06-19T09:19:01.857095Z"
    }
   },
   "cell_type": "code",
   "source": "headers.forEach { (key, value) -> connection.setRequestProperty(key, value) }",
   "outputs": [],
   "execution_count": 8
  },
  {
   "metadata": {
    "ExecuteTime": {
     "end_time": "2024-06-19T09:19:03.423272Z",
     "start_time": "2024-06-19T09:19:02.891734Z"
    }
   },
   "cell_type": "code",
   "source": [
    "connection.requestMethod = \"GET\"\n",
    "connection.connect()"
   ],
   "outputs": [],
   "execution_count": 9
  },
  {
   "metadata": {
    "ExecuteTime": {
     "end_time": "2024-06-19T09:19:04.290947Z",
     "start_time": "2024-06-19T09:19:03.993582Z"
    }
   },
   "cell_type": "code",
   "source": "val dF = connection.inputStream.bufferedReader().readText()",
   "outputs": [],
   "execution_count": 10
  },
  {
   "metadata": {},
   "cell_type": "code",
   "source": "println(dF)",
   "outputs": [],
   "execution_count": null
  },
  {
   "metadata": {
    "ExecuteTime": {
     "end_time": "2024-06-19T09:19:05.587259Z",
     "start_time": "2024-06-19T09:19:05.266411Z"
    }
   },
   "cell_type": "code",
   "source": "val document = Jsoup.parse(dF)",
   "outputs": [],
   "execution_count": 11
  },
  {
   "metadata": {},
   "cell_type": "code",
   "source": "println(document)",
   "outputs": [],
   "execution_count": null
  },
  {
   "metadata": {
    "ExecuteTime": {
     "end_time": "2024-06-19T09:19:07.067446Z",
     "start_time": "2024-06-19T09:19:06.943578Z"
    }
   },
   "cell_type": "code",
   "source": "val reportDateFocus = document.selectFirst(\"dei|documentfiscalperiodfocus\")",
   "outputs": [],
   "execution_count": 12
  },
  {
   "metadata": {
    "ExecuteTime": {
     "end_time": "2024-06-19T09:19:08.627534Z",
     "start_time": "2024-06-19T09:19:08.561273Z"
    }
   },
   "cell_type": "code",
   "source": "println(reportDateFocus)",
   "outputs": [
    {
     "name": "stdout",
     "output_type": "stream",
     "text": [
      "<dei:documentfiscalperiodfocus contextref=\"c20210101to20211231\" id=\"Fact_c0b5474c9c3d49c596bd9b8999798287\">\n",
      " FY\n",
      "</dei:documentfiscalperiodfocus>\n"
     ]
    }
   ],
   "execution_count": 13
  },
  {
   "metadata": {
    "ExecuteTime": {
     "end_time": "2024-06-19T09:19:11.306282Z",
     "start_time": "2024-06-19T09:19:11.198225Z"
    }
   },
   "cell_type": "code",
   "source": "val reportDate = eP.parseElement(document, reportDateFocus)",
   "outputs": [],
   "execution_count": 14
  },
  {
   "metadata": {
    "ExecuteTime": {
     "end_time": "2024-06-19T09:19:12.629682Z",
     "start_time": "2024-06-19T09:19:12.571050Z"
    }
   },
   "cell_type": "code",
   "source": "println(reportDate)",
   "outputs": [
    {
     "name": "stdout",
     "output_type": "stream",
     "text": [
      "{name=dei:documentfiscalperiodfocus, value=FY, unit=NA, date=2021-12-31}\n"
     ]
    }
   ],
   "execution_count": 15
  },
  {
   "metadata": {},
   "cell_type": "code",
   "source": "",
   "outputs": [],
   "execution_count": null
  }
 ],
 "metadata": {
  "kernelspec": {
   "display_name": "Kotlin",
   "language": "kotlin",
   "name": "kotlin"
  },
  "language_info": {
   "name": "kotlin",
   "version": "1.9.23",
   "mimetype": "text/x-kotlin",
   "file_extension": ".kt",
   "pygments_lexer": "kotlin",
   "codemirror_mode": "text/x-kotlin",
   "nbconvert_exporter": ""
  }
 },
 "nbformat": 4,
 "nbformat_minor": 0
}
